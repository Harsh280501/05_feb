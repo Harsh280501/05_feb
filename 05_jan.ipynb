{
 "cells": [
  {
   "cell_type": "markdown",
   "id": "9eec7094-6c45-4a66-8f1c-4cbcf2baadcd",
   "metadata": {},
   "source": [
    "# Q1 Explain Class and Object with respect to Object-Oriented Programming. Give a suitable example."
   ]
  },
  {
   "cell_type": "code",
   "execution_count": 1,
   "id": "2491dc34-8aca-499f-bf99-5cc5af3a37ed",
   "metadata": {},
   "outputs": [
    {
     "name": "stdout",
     "output_type": "stream",
     "text": [
      "mammal\n",
      "I'm a mammal\n",
      "I'm a dog\n"
     ]
    }
   ],
   "source": [
    "\"\"\" \n",
    "A class is a user-defined blueprint or prototype from which objects are created. Classes provide a means of bundling data and functionality together. Creating a new class creates a new type of object, allowing new instances of that type to be made. Each class instance can have attributes attached to it for maintaining its state. Class instances can also have methods (defined by their class) for modifying their state.\n",
    "\n",
    "\"\"\"\n",
    "\n",
    "class Dog:\n",
    "\n",
    "\n",
    "\tattr1 = \"mammal\"\n",
    "\tattr2 = \"dog\"\n",
    "\n",
    "\tdef fun(self):\n",
    "\t\tprint(\"I'm a\", self.attr1)\n",
    "\t\tprint(\"I'm a\", self.attr2)\n",
    "\n",
    "\n",
    "Rodger = Dog()\n",
    "\n",
    "print(Rodger.attr1)\n",
    "Rodger.fun()\n"
   ]
  },
  {
   "cell_type": "markdown",
   "id": "e74d1016-33e3-4a46-a8d4-0bb195aae5da",
   "metadata": {},
   "source": [
    "# Q2. Name the four pillars of OOPs.\n"
   ]
  },
  {
   "cell_type": "code",
   "execution_count": 2,
   "id": "62c7860c-3ef2-4c68-a5fa-f09b73e3726a",
   "metadata": {},
   "outputs": [
    {
     "data": {
      "text/plain": [
       "'The four pillars of object-oriented programming are:\\n\\nAbstraction\\nEncapsulation\\nInheritance\\nPolymorphism '"
      ]
     },
     "execution_count": 2,
     "metadata": {},
     "output_type": "execute_result"
    }
   ],
   "source": [
    "'''The four pillars of object-oriented programming are:\n",
    "\n",
    "Abstraction\n",
    "Encapsulation\n",
    "Inheritance\n",
    "Polymorphism '''"
   ]
  },
  {
   "cell_type": "markdown",
   "id": "ae33468b-bfe1-4d2a-8eb1-e29dd25dbfa3",
   "metadata": {},
   "source": [
    "# Q3 Explain why the __init__() function is used. Give a suitable example."
   ]
  },
  {
   "cell_type": "code",
   "execution_count": 3,
   "id": "954fae38-0104-4cb6-908e-4dae10023c69",
   "metadata": {},
   "outputs": [
    {
     "data": {
      "text/plain": [
       "' init() function is used to initilize a object and is also can be defined as constructor '"
      ]
     },
     "execution_count": 3,
     "metadata": {},
     "output_type": "execute_result"
    }
   ],
   "source": [
    "''' init() function is used to initilize a object and is also can be defined as constructor '''"
   ]
  },
  {
   "cell_type": "markdown",
   "id": "77190073-8256-4aee-8ae6-82d0a8451a31",
   "metadata": {},
   "source": [
    "# Q4 Why self is used in OOPs?"
   ]
  },
  {
   "cell_type": "code",
   "execution_count": 4,
   "id": "382292d3-6e04-4087-80d0-8b5dc3a89371",
   "metadata": {},
   "outputs": [
    {
     "data": {
      "text/plain": [
       "'self represents the instance of the class. By using the “self”  we can access the attributes and methods of the class in python. It binds the attributes with the given arguments.'"
      ]
     },
     "execution_count": 4,
     "metadata": {},
     "output_type": "execute_result"
    }
   ],
   "source": [
    "\"\"\"self represents the instance of the class. By using the “self”  we can access the attributes and methods of the class in python. It binds the attributes with the given arguments.\"\"\""
   ]
  },
  {
   "cell_type": "markdown",
   "id": "b6d83e69-9a8d-491a-800a-5c2e5b33e284",
   "metadata": {},
   "source": [
    "# Q5 What is inheritance? Give an example for each type of inheritance."
   ]
  },
  {
   "cell_type": "code",
   "execution_count": 6,
   "id": "e49d0945-6024-428a-9577-08e1aee9799a",
   "metadata": {},
   "outputs": [
    {
     "data": {
      "text/plain": [
       "'We live in a world where we find software and programming everywhere. The modern-day programming languages are strongly built on the Object-Oriented Programming (shortly abbreviated as OOPs) concept. OOP is a paradigm that helps programmers structure their code so that they are easy to maintain, understand, and override'"
      ]
     },
     "execution_count": 6,
     "metadata": {},
     "output_type": "execute_result"
    }
   ],
   "source": [
    "'''We live in a world where we find software and programming everywhere. The modern-day programming languages are strongly built on the Object-Oriented Programming (shortly abbreviated as OOPs) concept. OOP is a paradigm that helps programmers structure their code so that they are easy to maintain, understand, and override'''"
   ]
  },
  {
   "cell_type": "code",
   "execution_count": null,
   "id": "cffe8035-7b16-4889-8f67-11f82ca2ac8e",
   "metadata": {},
   "outputs": [],
   "source": []
  }
 ],
 "metadata": {
  "kernelspec": {
   "display_name": "Python 3 (ipykernel)",
   "language": "python",
   "name": "python3"
  },
  "language_info": {
   "codemirror_mode": {
    "name": "ipython",
    "version": 3
   },
   "file_extension": ".py",
   "mimetype": "text/x-python",
   "name": "python",
   "nbconvert_exporter": "python",
   "pygments_lexer": "ipython3",
   "version": "3.10.8"
  }
 },
 "nbformat": 4,
 "nbformat_minor": 5
}
